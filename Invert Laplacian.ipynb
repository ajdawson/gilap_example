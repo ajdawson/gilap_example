{
 "cells": [
  {
   "cell_type": "markdown",
   "metadata": {},
   "source": [
    "# Generalised inverse Laplacian\n",
    "\n",
    "This demonstrates a manual method to compute the inverse Laplacian of a scalar field using bits and pieces we can find lying around in windspharm. This is obviously a massive hack but it demonstrates that it is possible!\n",
    "You can do all this just using `pyspharm`, which may be a better choice, but here we'll let windspharm do the work of setting up the required pyspharm objects."
   ]
  },
  {
   "cell_type": "markdown",
   "metadata": {},
   "source": [
    "## Data loading and reference results to show correctness\n",
    "\n",
    "I'm going to use u and v wind as one normally would with windspharm, but these fields can be anything you like (omega even); in general you just need some fields with the right shape to initialise everything. I will use Iris to load, you can use any interface you like."
   ]
  },
  {
   "cell_type": "code",
   "execution_count": 1,
   "metadata": {},
   "outputs": [],
   "source": [
    "import iris\n",
    "\n",
    "u = iris.load_cube(\"uwnd_mean.nc\")\n",
    "v = iris.load_cube(\"vwnd_mean.nc\")"
   ]
  },
  {
   "cell_type": "markdown",
   "metadata": {},
   "source": [
    "Create a VectorWind instance from the u and v wind components, then compute the vorticity and streamfunction.\n",
    "I'm going to demonstrate that the manual method of computing the inverse Laplacian gives the same result as\n",
    "the built-in version, which can be verified if I use vorticity as the scalar field."
   ]
  },
  {
   "cell_type": "code",
   "execution_count": 2,
   "metadata": {},
   "outputs": [],
   "source": [
    "from windspharm.iris import VectorWind\n",
    "\n",
    "vw = VectorWind(u, v)\n",
    "vrt = vw.vorticity()\n",
    "psi = vw.streamfunction()"
   ]
  },
  {
   "cell_type": "markdown",
   "metadata": {},
   "source": [
    "## Compute and force result back into a cube\n",
    "\n",
    "We're going to need two things to compute the inverse Laplacian, a `Spharmt` instance for spectral transforms and the (private) `invlap` function from pyspharm.\n",
    "A `windspharm.standard.VectorWind` instance has an attribute `s` that holds the `Spharmt` object we need.\n",
    "The metadata interfaces are privately holding on to a windspharm.standard.VectorWind instance."
   ]
  },
  {
   "cell_type": "code",
   "execution_count": 3,
   "metadata": {},
   "outputs": [],
   "source": [
    "# Get the Spharmt instance\n",
    "S = vw._api.s  # (just vw.s if you used windspharm.standard.VectorWind)\n",
    "\n",
    "# Transform your scalar field to spectral domain, you can't use metadata here\n",
    "from windspharm.tools import prep_data, recover_data\n",
    "scalar_field, shape_info = prep_data(vrt.data, \"tyx\")\n",
    "scalar_field_spec = S.grdtospec(scalar_field)\n",
    "\n",
    "# Compute the inverse Laplacian\n",
    "import spharm.spharm\n",
    "ilap_spec = spharm.spharm._spherepack.invlap(scalar_field_spec, S.rsphere)\n",
    "ilap = recover_data(S.spectogrd(ilap_spec), shape_info)\n"
   ]
  },
  {
   "cell_type": "code",
   "execution_count": 4,
   "metadata": {},
   "outputs": [
    {
     "name": "stdout",
     "output_type": "stream",
     "text": [
      "inverse_laplacian / (m/s)           (time: 12; latitude: 73; longitude: 144)\n",
      "     Dimension coordinates:\n",
      "          time                           x             -              -\n",
      "          latitude                       -             x              -\n",
      "          longitude                      -             -              x\n",
      "     Scalar coordinates:\n",
      "          air_pressure: 200.0 hPa\n",
      "     Attributes:\n",
      "          Conventions: CF-1.5\n",
      "          history: Wed May  9 11:39:18 2018: ncatted -a actual_range,time,d,, uwnd_mean.nc\n",
      "Wed...\n",
      "          parent_stat: Mean\n",
      "          statistic: Long Term Mean\n"
     ]
    }
   ],
   "source": [
    "ilap_cube = u.copy()\n",
    "ilap_cube.data = ilap\n",
    "ilap_cube.rename(\"inverse_laplacian\")\n",
    "print(ilap_cube)"
   ]
  },
  {
   "cell_type": "markdown",
   "metadata": {},
   "source": [
    "## Check the results are OK"
   ]
  },
  {
   "cell_type": "code",
   "execution_count": 5,
   "metadata": {},
   "outputs": [
    {
     "data": {
      "text/plain": [
       "<matplotlib.collections.QuadMesh at 0x7f487d90e860>"
      ]
     },
     "execution_count": 5,
     "metadata": {},
     "output_type": "execute_result"
    },
    {
     "data": {
      "image/png": "[encoded data removed]",
      "text/plain": [
       "<Figure size 432x288 with 2 Axes>"
      ]
     },
     "metadata": {
      "needs_background": "light"
     },
     "output_type": "display_data"
    }
   ],
   "source": [
    "%matplotlib inline\n",
    "import iris.quickplot\n",
    "\n",
    "iris.quickplot.pcolormesh(psi[2])"
   ]
  },
  {
   "cell_type": "code",
   "execution_count": 6,
   "metadata": {},
   "outputs": [
    {
     "data": {
      "text/plain": [
       "<matplotlib.collections.QuadMesh at 0x7f487d816f98>"
      ]
     },
     "execution_count": 6,
     "metadata": {},
     "output_type": "execute_result"
    },
    {
     "data": {
      "image/png": "[encoded data removed]",
      "text/plain": [
       "<Figure size 432x288 with 2 Axes>"
      ]
     },
     "metadata": {
      "needs_background": "light"
     },
     "output_type": "display_data"
    }
   ],
   "source": [
    "iris.quickplot.pcolormesh(ilap_cube[2])"
   ]
  },
  {
   "cell_type": "code",
   "execution_count": 7,
   "metadata": {},
   "outputs": [
    {
     "name": "stdout",
     "output_type": "stream",
     "text": [
      "Maximum absolute difference: 96.0\n",
      "Mean values: 3684024.8 3684025.0\n",
      "Standard deviations: 92327940.0 92327944.0\n"
     ]
    }
   ],
   "source": [
    "import numpy as np\n",
    "\n",
    "diff = psi.data - ilap_cube.data\n",
    "print(\"Maximum absolute difference:\", np.max(np.abs(diff)))\n",
    "print(\"Mean values:\", np.mean(psi.data), np.mean(ilap_cube.data))\n",
    "print(\"Standard deviations:\", np.std(psi.data), np.std(ilap_cube.data))"
   ]
  }
 ],
 "metadata": {
  "kernelspec": {
   "display_name": "Python 3",
   "language": "python",
   "name": "python3"
  },
  "language_info": {
   "codemirror_mode": {
    "name": "ipython",
    "version": 3
   },
   "file_extension": ".py",
   "mimetype": "text/x-python",
   "name": "python",
   "nbconvert_exporter": "python",
   "pygments_lexer": "ipython3",
   "version": "3.7.3"
  }
 },
 "nbformat": 4,
 "nbformat_minor": 2
}
